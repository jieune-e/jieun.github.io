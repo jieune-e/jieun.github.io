{
 "cells": [
  {
   "cell_type": "markdown",
   "metadata": {},
   "source": [
    "# 8. 비교, 논리 연산자"
   ]
  },
  {
   "cell_type": "markdown",
   "metadata": {},
   "source": [
    "## 1. 비교연산자"
   ]
  },
  {
   "cell_type": "markdown",
   "metadata": {},
   "source": [
    "### 1) '값'에 대한 비교"
   ]
  },
  {
   "cell_type": "code",
   "execution_count": 5,
   "metadata": {},
   "outputs": [
    {
     "data": {
      "text/plain": [
       "True"
      ]
     },
     "execution_count": 5,
     "metadata": {},
     "output_type": "execute_result"
    }
   ],
   "source": [
    "1 == 1.0"
   ]
  },
  {
   "cell_type": "code",
   "execution_count": 6,
   "metadata": {},
   "outputs": [
    {
     "data": {
      "text/plain": [
       "False"
      ]
     },
     "execution_count": 6,
     "metadata": {},
     "output_type": "execute_result"
    }
   ],
   "source": [
    "1 != 1.0"
   ]
  },
  {
   "cell_type": "markdown",
   "metadata": {},
   "source": [
    "### 2) '객체'에 대한 비교\n",
    "\n",
    "* ==, !=은 '값' 자체를 비교\n",
    "\n",
    "* is, is not은 '객체'를 비교"
   ]
  },
  {
   "cell_type": "code",
   "execution_count": 3,
   "metadata": {},
   "outputs": [
    {
     "data": {
      "text/plain": [
       "False"
      ]
     },
     "execution_count": 3,
     "metadata": {},
     "output_type": "execute_result"
    }
   ],
   "source": [
    "1 is 1.0"
   ]
  },
  {
   "cell_type": "code",
   "execution_count": 4,
   "metadata": {},
   "outputs": [
    {
     "data": {
      "text/plain": [
       "True"
      ]
     },
     "execution_count": 4,
     "metadata": {},
     "output_type": "execute_result"
    }
   ],
   "source": [
    "1 is not 1.0"
   ]
  },
  {
   "cell_type": "markdown",
   "metadata": {},
   "source": [
    "#### 설명)\n",
    "\n",
    "-1 == 1.0은 True가 나왔지만 1 is 1.0은 False가 나옴\n",
    "\n",
    "-> 둘다 1이니까 True\n",
    "\n",
    "-> 1은 정수 객체, 1.0은 실수 객체이므로 두 객체는 서로 다르기 때문에 False\n"
   ]
  },
  {
   "cell_type": "code",
   "execution_count": 8,
   "metadata": {
    "scrolled": true
   },
   "outputs": [
    {
     "name": "stdout",
     "output_type": "stream",
     "text": [
      "4460659856\n",
      "4499516976\n"
     ]
    }
   ],
   "source": [
    "print( id(1) )\n",
    "print( id(1.0) )\n",
    "\n",
    "# 두 객체의 고유한 값(메모리 주소)이 다르므로 서로 다른 객체"
   ]
  },
  {
   "cell_type": "code",
   "execution_count": 16,
   "metadata": {},
   "outputs": [
    {
     "name": "stdout",
     "output_type": "stream",
     "text": [
      "4460659664\n",
      "4460659664\n",
      "True\n"
     ]
    }
   ],
   "source": [
    "a = -5\n",
    "print(id(a))\n",
    "print(id(-5))\n",
    "\n",
    "print(a is -5)"
   ]
  },
  {
   "cell_type": "code",
   "execution_count": 18,
   "metadata": {},
   "outputs": [
    {
     "name": "stdout",
     "output_type": "stream",
     "text": [
      "4501240976\n",
      "4501240816\n",
      "False\n"
     ]
    }
   ],
   "source": [
    "a = -6\n",
    "print(id(a)) # 할당하면서 메모리 주소가 뭔가 변경됨\n",
    "print(id(-6)) # 더이상 -6의 메모리 주소와 같지 않음\n",
    "\n",
    "print(a is -6)"
   ]
  },
  {
   "cell_type": "markdown",
   "metadata": {},
   "source": [
    "#### 설명)\n",
    "\n",
    "변수 a가 있는 상태에서 다른 값을 할당하면 메모리 주소가 달라질 수 있음\n",
    "\n",
    "다른 객체가 되므로 값이 같더라도 is로 비교하면 false가 나옴\n",
    "\n",
    "-> 그러니까 is, is not은 객체가 같은지, 같은 메모리 주소를 공유하고 있는지가 중요함"
   ]
  },
  {
   "cell_type": "markdown",
   "metadata": {},
   "source": [
    "---\n",
    "## 2. 논리연산자\n",
    "\n",
    "-and\n",
    "\n",
    "-or\n",
    "\n",
    "-not : 논리값을 뒤집음\n",
    "\n",
    "-> 판단 순서는 not, and, or 순서"
   ]
  },
  {
   "cell_type": "code",
   "execution_count": 21,
   "metadata": {},
   "outputs": [
    {
     "data": {
      "text/plain": [
       "True"
      ]
     },
     "execution_count": 21,
     "metadata": {},
     "output_type": "execute_result"
    }
   ],
   "source": [
    "not True and False or not False\n",
    "\n",
    "# 1. False and False or True\n",
    "# 2. False or True\n",
    "# 3. True"
   ]
  },
  {
   "cell_type": "markdown",
   "metadata": {},
   "source": [
    "### * 비교연산자 & 논리연산자"
   ]
  },
  {
   "cell_type": "code",
   "execution_count": 22,
   "metadata": {},
   "outputs": [
    {
     "data": {
      "text/plain": [
       "True"
      ]
     },
     "execution_count": 22,
     "metadata": {},
     "output_type": "execute_result"
    }
   ],
   "source": [
    "10 == 10 and 10 != 5\n",
    "\n",
    "# True and True -> True"
   ]
  },
  {
   "cell_type": "code",
   "execution_count": 23,
   "metadata": {},
   "outputs": [
    {
     "data": {
      "text/plain": [
       "False"
      ]
     },
     "execution_count": 23,
     "metadata": {},
     "output_type": "execute_result"
    }
   ],
   "source": [
    "not 10 > 5\n",
    "\n",
    "# not True -> False"
   ]
  },
  {
   "cell_type": "markdown",
   "metadata": {},
   "source": [
    "### * 정수, 실수, 문자열을 bool로 만들기\n",
    "\n",
    "-정수 0, 실수 0.0, 빈문자열(\"\") 이외의 모든 숫자와 문자는 True\n"
   ]
  },
  {
   "cell_type": "markdown",
   "metadata": {},
   "source": [
    "---\n",
    "### Practice 1"
   ]
  },
  {
   "cell_type": "code",
   "execution_count": 37,
   "metadata": {},
   "outputs": [
    {
     "name": "stdout",
     "output_type": "stream",
     "text": [
      "False\n"
     ]
    }
   ],
   "source": [
    "korean = 92\n",
    "english = 47\n",
    "mathematics = 86\n",
    "science = 81\n",
    "\n",
    "scores = [korean, english, mathematics, science]\n",
    "\n",
    "count = 0\n",
    "for i, score in enumerate(scores):\n",
    "    if score >= 50: \n",
    "        count += 1\n",
    "    \n",
    "if count == 4:\n",
    "    print(\"True\")\n",
    "        \n",
    "elif count < 4:\n",
    "    print(\"False\")\n",
    "        "
   ]
  },
  {
   "cell_type": "markdown",
   "metadata": {},
   "source": [
    "### Practice 2"
   ]
  },
  {
   "cell_type": "code",
   "execution_count": 33,
   "metadata": {},
   "outputs": [
    {
     "name": "stdout",
     "output_type": "stream",
     "text": [
      "네 과목의 점수를 입력하세요: 90, 81, 86, 80\n",
      "['90', ' 81', ' 86', ' 80']\n"
     ]
    }
   ],
   "source": [
    "scores = input(\"네 과목의 점수를 입력하세요: \").split(\",\")\n",
    "print(scores)"
   ]
  },
  {
   "cell_type": "code",
   "execution_count": 37,
   "metadata": {},
   "outputs": [
    {
     "name": "stdout",
     "output_type": "stream",
     "text": [
      "[90, 81, 86, 80]\n"
     ]
    }
   ],
   "source": [
    "for i in range(4):\n",
    "    scores[i] = int(scores[i])\n",
    "    \n",
    "print(scores)"
   ]
  },
  {
   "cell_type": "code",
   "execution_count": 38,
   "metadata": {},
   "outputs": [
    {
     "name": "stdout",
     "output_type": "stream",
     "text": [
      "{'국어': 90, '영어': 81, '수학': 86, '과학': 80}\n"
     ]
    }
   ],
   "source": [
    "label = [\"국어\", \"영어\", \"수학\", \"과학\"]\n",
    "\n",
    "a = dict(zip(label, scores))\n",
    "\n",
    "print(a)"
   ]
  },
  {
   "cell_type": "code",
   "execution_count": 44,
   "metadata": {},
   "outputs": [
    {
     "name": "stdout",
     "output_type": "stream",
     "text": [
      "90\n",
      "81\n",
      "86\n",
      "80\n"
     ]
    }
   ],
   "source": [
    "for val in a.values():\n",
    "    print(val)"
   ]
  },
  {
   "cell_type": "code",
   "execution_count": 55,
   "metadata": {},
   "outputs": [
    {
     "name": "stdout",
     "output_type": "stream",
     "text": [
      "True\n"
     ]
    }
   ],
   "source": [
    "if a[\"국어\"] >= 90 and a[\"영어\"] > 80 and a[\"수학\"] > 85 and a[\"과학\"] >= 80:\n",
    "    print(\"True\")\n",
    "\n",
    "else: print(\"False\")"
   ]
  }
 ],
 "metadata": {
  "kernelspec": {
   "display_name": "Python 3",
   "language": "python",
   "name": "python3"
  },
  "language_info": {
   "codemirror_mode": {
    "name": "ipython",
    "version": 3
   },
   "file_extension": ".py",
   "mimetype": "text/x-python",
   "name": "python",
   "nbconvert_exporter": "python",
   "pygments_lexer": "ipython3",
   "version": "3.7.4"
  }
 },
 "nbformat": 4,
 "nbformat_minor": 2
}
