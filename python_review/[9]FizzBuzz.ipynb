{
 "cells": [
  {
   "cell_type": "markdown",
   "metadata": {},
   "source": [
    "# FizzBuzz\n",
    "\n",
    "1. 1에서 100까지 출력\n",
    "\n",
    "2. 3의 배수는 Fizz 출력\n",
    "\n",
    "3. 5의 배수는 Buzz 출력\n",
    "\n",
    "4. 3과 5의 공배수는 FizzBuzz 출력"
   ]
  },
  {
   "cell_type": "code",
   "execution_count": 9,
   "metadata": {},
   "outputs": [
    {
     "name": "stdout",
     "output_type": "stream",
     "text": [
      "1 2 Fizz 4 Buzz Fizz 7 8 Fizz Buzz 11 Fizz 13 14 FizzBuzz 16 17 Fizz 19 Buzz Fizz 22 23 Fizz Buzz 26 Fizz 28 29 FizzBuzz 31 32 Fizz 34 Buzz Fizz 37 38 Fizz Buzz 41 Fizz 43 44 FizzBuzz 46 47 Fizz 49 Buzz Fizz 52 53 Fizz Buzz 56 Fizz 58 59 FizzBuzz 61 62 Fizz 64 Buzz Fizz 67 68 Fizz Buzz 71 Fizz 73 74 FizzBuzz 76 77 Fizz 79 Buzz Fizz 82 83 Fizz Buzz 86 Fizz 88 89 FizzBuzz 91 92 Fizz 94 Buzz Fizz 97 98 Fizz Buzz "
     ]
    }
   ],
   "source": [
    "for i in range(1, 101):\n",
    "    if i % 3 == 0 and i % 5 != 0:\n",
    "        print(\"Fizz\", end=' ')\n",
    "        \n",
    "    elif i % 3 != 0 and i % 5 == 0:\n",
    "        print(\"Buzz\", end=' ')\n",
    "        \n",
    "    elif i % 3 == 0 and i % 5 == 0:\n",
    "        print(\"FizzBuzz\", end=' ')\n",
    "    \n",
    "    else:\n",
    "        print(i, end=' ')"
   ]
  },
  {
   "cell_type": "code",
   "execution_count": 7,
   "metadata": {},
   "outputs": [
    {
     "name": "stdout",
     "output_type": "stream",
     "text": [
      "1 2 Fizz 4 Buzz Fizz 7 8 Fizz Buzz 11 Fizz 13 14 FizzBuzz 16 17 Fizz 19 Buzz Fizz 22 23 Fizz Buzz 26 Fizz 28 29 FizzBuzz 31 32 Fizz 34 Buzz Fizz 37 38 Fizz Buzz 41 Fizz 43 44 FizzBuzz 46 47 Fizz 49 Buzz Fizz 52 53 Fizz Buzz 56 Fizz 58 59 FizzBuzz 61 62 Fizz 64 Buzz Fizz 67 68 Fizz Buzz 71 Fizz 73 74 FizzBuzz 76 77 Fizz 79 Buzz Fizz 82 83 Fizz Buzz 86 Fizz 88 89 FizzBuzz 91 92 Fizz 94 Buzz Fizz 97 98 Fizz Buzz "
     ]
    }
   ],
   "source": [
    "for i in range(1, 101):\n",
    "    if i % 3 == 0 and i % 5 == 0: # 얘를 먼저 해줘야 30 같은 함정에도 걸리지 않을 수 있음\n",
    "        print(\"FizzBuzz\", end=' ')\n",
    "        \n",
    "    elif i % 3 == 0:\n",
    "        print(\"Fizz\", end=' ')\n",
    "        \n",
    "    elif i % 5 == 0:\n",
    "        print(\"Buzz\", end=' ')\n",
    "    \n",
    "    else:\n",
    "        print(i, end=' ')"
   ]
  },
  {
   "cell_type": "code",
   "execution_count": 12,
   "metadata": {},
   "outputs": [
    {
     "name": "stdout",
     "output_type": "stream",
     "text": [
      "1 2 Fizz 4 Buzz Fizz 7 8 Fizz Buzz 11 Fizz 13 14 FizzBuzz 16 17 Fizz 19 Buzz Fizz 22 23 Fizz Buzz 26 Fizz 28 29 FizzBuzz 31 32 Fizz 34 Buzz Fizz 37 38 Fizz Buzz 41 Fizz 43 44 FizzBuzz 46 47 Fizz 49 Buzz Fizz 52 53 Fizz Buzz 56 Fizz 58 59 FizzBuzz 61 62 Fizz 64 Buzz Fizz 67 68 Fizz Buzz 71 Fizz 73 74 FizzBuzz 76 77 Fizz 79 Buzz Fizz 82 83 Fizz Buzz 86 Fizz 88 89 FizzBuzz 91 92 Fizz 94 Buzz Fizz 97 98 Fizz Buzz "
     ]
    }
   ],
   "source": [
    "# 코드 간단하게\n",
    "\n",
    "for i in range(1, 101):\n",
    "    print('Fizz'*(i%3==0) + 'Buzz'*(i%5==0) or i, end=' ')\n",
    "    \n",
    "    \n",
    "# 문자열끼리 더할 수 있음"
   ]
  },
  {
   "cell_type": "code",
   "execution_count": 13,
   "metadata": {},
   "outputs": [
    {
     "data": {
      "text/plain": [
       "'ApplePie'"
      ]
     },
     "execution_count": 13,
     "metadata": {},
     "output_type": "execute_result"
    }
   ],
   "source": [
    "'Apple' + 'Pie'"
   ]
  },
  {
   "cell_type": "code",
   "execution_count": 14,
   "metadata": {},
   "outputs": [
    {
     "data": {
      "text/plain": [
       "'Apple'"
      ]
     },
     "execution_count": 14,
     "metadata": {},
     "output_type": "execute_result"
    }
   ],
   "source": [
    "'Apple'*True"
   ]
  },
  {
   "cell_type": "code",
   "execution_count": 15,
   "metadata": {},
   "outputs": [
    {
     "data": {
      "text/plain": [
       "''"
      ]
     },
     "execution_count": 15,
     "metadata": {},
     "output_type": "execute_result"
    }
   ],
   "source": [
    "'Apple'*False"
   ]
  },
  {
   "cell_type": "markdown",
   "metadata": {},
   "source": [
    "## * Practice"
   ]
  },
  {
   "cell_type": "code",
   "execution_count": 1,
   "metadata": {},
   "outputs": [
    {
     "name": "stdout",
     "output_type": "stream",
     "text": [
      "1 Fizz 3 Fizz 5 Fizz 7 Fizz 9 Fizz Buzz Fizz 13 Fizz 15 Fizz 17 Fizz 19 Fizz 21 FizzBuzz 23 Fizz 25 Fizz 27 Fizz 29 Fizz 31 Fizz Buzz Fizz 35 Fizz 37 Fizz 39 Fizz 41 Fizz 43 FizzBuzz 45 Fizz 47 Fizz 49 Fizz 51 Fizz 53 Fizz Buzz Fizz 57 Fizz 59 Fizz 61 Fizz 63 Fizz 65 FizzBuzz 67 Fizz 69 Fizz 71 Fizz 73 Fizz 75 Fizz Buzz Fizz 79 Fizz 81 Fizz 83 Fizz 85 Fizz 87 FizzBuzz 89 Fizz 91 Fizz 93 Fizz 95 Fizz 97 Fizz Buzz Fizz "
     ]
    }
   ],
   "source": [
    "for i in range(1, 101):\n",
    "    if i % 2 == 0 and i % 11 == 0:\n",
    "        print(\"FizzBuzz\", end=' ')\n",
    "        \n",
    "    elif i % 2 == 0:\n",
    "        print(\"Fizz\", end=' ')\n",
    "        \n",
    "    elif i % 11 == 0:\n",
    "        print(\"Buzz\", end=' ')\n",
    "        \n",
    "    else:\n",
    "        print(i, end=' ')"
   ]
  },
  {
   "cell_type": "markdown",
   "metadata": {},
   "source": [
    "## * Practice"
   ]
  },
  {
   "cell_type": "code",
   "execution_count": 4,
   "metadata": {},
   "outputs": [
    {
     "name": "stdout",
     "output_type": "stream",
     "text": [
      "1,100\n",
      "1 2 3 4 Fizz 6 Buzz 8 9 Fizz 11 12 13 Buzz Fizz 16 17 18 19 Fizz Buzz 22 23 24 Fizz 26 27 Buzz 29 Fizz 31 32 33 34 FizzBuzz 36 37 38 39 Fizz 41 Buzz 43 44 Fizz 46 47 48 Buzz Fizz 51 52 53 54 Fizz Buzz 57 58 59 Fizz 61 62 Buzz 64 Fizz 66 67 68 69 FizzBuzz 71 72 73 74 Fizz 76 Buzz 78 79 Fizz 81 82 83 Buzz Fizz 86 87 88 89 Fizz Buzz 92 93 94 Fizz 96 97 Buzz 99 Fizz "
     ]
    }
   ],
   "source": [
    "num1, num2 = map(int, input().split(\",\"))\n",
    "\n",
    "for i in range(num1, num2+1):\n",
    "    if i % 5 == 0 and i % 7 == 0:\n",
    "        print(\"FizzBuzz\", end=' ')\n",
    "               \n",
    "    elif i % 5 == 0:\n",
    "        print(\"Fizz\", end=' ')\n",
    "               \n",
    "    elif i % 7 == 0:\n",
    "        print(\"Buzz\", end=' ')\n",
    "    \n",
    "    else:\n",
    "        print(i, end=' ')"
   ]
  },
  {
   "cell_type": "markdown",
   "metadata": {},
   "source": [
    "## * Practice"
   ]
  },
  {
   "cell_type": "code",
   "execution_count": 5,
   "metadata": {},
   "outputs": [],
   "source": [
    "import turtle as t\n",
    "t.shape(\"turtle\")"
   ]
  },
  {
   "cell_type": "code",
   "execution_count": 6,
   "metadata": {},
   "outputs": [],
   "source": [
    "t.forward(100)"
   ]
  },
  {
   "cell_type": "code",
   "execution_count": 7,
   "metadata": {},
   "outputs": [],
   "source": [
    "t.right(90)"
   ]
  },
  {
   "cell_type": "code",
   "execution_count": 8,
   "metadata": {},
   "outputs": [],
   "source": [
    "t.forward(100)"
   ]
  },
  {
   "cell_type": "code",
   "execution_count": 9,
   "metadata": {},
   "outputs": [],
   "source": [
    "t.right(90)"
   ]
  },
  {
   "cell_type": "code",
   "execution_count": 10,
   "metadata": {},
   "outputs": [],
   "source": [
    "t.forward(100)"
   ]
  },
  {
   "cell_type": "code",
   "execution_count": 11,
   "metadata": {},
   "outputs": [],
   "source": [
    "t.right(90)"
   ]
  },
  {
   "cell_type": "code",
   "execution_count": 12,
   "metadata": {},
   "outputs": [],
   "source": [
    "t.forward(100)"
   ]
  },
  {
   "cell_type": "code",
   "execution_count": 15,
   "metadata": {},
   "outputs": [],
   "source": [
    "import turtle as t\n",
    "\n",
    "t.shape(\"turtle\")\n",
    "\n",
    "for i in range(4):\n",
    "    t.forward(100)\n",
    "    t.right(90)"
   ]
  },
  {
   "cell_type": "code",
   "execution_count": 1,
   "metadata": {},
   "outputs": [],
   "source": [
    "# 오각형\n",
    "\n",
    "import turtle as t\n",
    "\n",
    "t.shape(\"turtle\")\n",
    "t.color(\"red\")\n",
    "t.begin_fill()\n",
    "\n",
    "for i in range(5):\n",
    "    t.forward(100)\n",
    "    t.right(360/5)\n",
    "    \n",
    "t.end_fill()"
   ]
  },
  {
   "cell_type": "code",
   "execution_count": 1,
   "metadata": {},
   "outputs": [],
   "source": [
    "# 원 \n",
    "\n",
    "import turtle as t\n",
    "\n",
    "t.shape('turtle')\n",
    "t.circle(120) # 반지름 120인 원 그림"
   ]
  },
  {
   "cell_type": "code",
   "execution_count": null,
   "metadata": {},
   "outputs": [],
   "source": [
    "# 원 \n",
    "\n",
    "import turtle as t\n",
    "\n",
    "t.shape('turtle')\n",
    "t.speed('fastest')\n",
    "\n",
    "for i in range(n):\n",
    "    t.circle(120) # 반지름 120인 원 그림\n",
    "    t.right(360/n) # 오른쪽으로 360/n도씩 회전 \n",
    "    \n",
    "    \n",
    "# 그물망 모양이 나옴"
   ]
  }
 ],
 "metadata": {
  "kernelspec": {
   "display_name": "Python 3",
   "language": "python",
   "name": "python3"
  },
  "language_info": {
   "codemirror_mode": {
    "name": "ipython",
    "version": 3
   },
   "file_extension": ".py",
   "mimetype": "text/x-python",
   "name": "python",
   "nbconvert_exporter": "python",
   "pygments_lexer": "ipython3",
   "version": "3.7.4"
  }
 },
 "nbformat": 4,
 "nbformat_minor": 2
}
