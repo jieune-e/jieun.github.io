{
 "cells": [
  {
   "cell_type": "markdown",
   "metadata": {},
   "source": [
    "## Q1. even/odd numbers?"
   ]
  },
  {
   "cell_type": "code",
   "execution_count": 1,
   "metadata": {},
   "outputs": [],
   "source": [
    "def is_odd(a):\n",
    "    if a % 2 == 1:\n",
    "        print(\"a is odd number\")\n",
    "    \n",
    "    elif a % 2 == 0:\n",
    "        print(\"a is even number\")"
   ]
  },
  {
   "cell_type": "code",
   "execution_count": 4,
   "metadata": {},
   "outputs": [
    {
     "name": "stdout",
     "output_type": "stream",
     "text": [
      "a is odd number\n"
     ]
    }
   ],
   "source": [
    "is_odd(37)"
   ]
  },
  {
   "cell_type": "code",
   "execution_count": 5,
   "metadata": {},
   "outputs": [
    {
     "name": "stdout",
     "output_type": "stream",
     "text": [
      "a is even number\n"
     ]
    }
   ],
   "source": [
    "is_odd(222)"
   ]
  },
  {
   "cell_type": "markdown",
   "metadata": {},
   "source": [
    "## Q2. Calculator for mean ( input could be many numbers)"
   ]
  },
  {
   "cell_type": "code",
   "execution_count": 8,
   "metadata": {},
   "outputs": [],
   "source": [
    "def is_mean(*args):\n",
    "    total = 0\n",
    "    for i in args:\n",
    "        total += i\n",
    "    \n",
    "    mean = total / len(args)\n",
    "    return mean"
   ]
  },
  {
   "cell_type": "code",
   "execution_count": 10,
   "metadata": {},
   "outputs": [
    {
     "data": {
      "text/plain": [
       "3.0"
      ]
     },
     "execution_count": 10,
     "metadata": {},
     "output_type": "execute_result"
    }
   ],
   "source": [
    "is_mean(1,2,3,4,5)"
   ]
  },
  {
   "cell_type": "markdown",
   "metadata": {},
   "source": [
    "## Q3. Modify program"
   ]
  },
  {
   "cell_type": "code",
   "execution_count": 13,
   "metadata": {},
   "outputs": [
    {
     "name": "stdout",
     "output_type": "stream",
     "text": [
      "첫번째 숫자를 입력하세요: 3\n",
      "두번재 숫자를 입력하세요: 6\n",
      "두 수의 합은 9입니다.\n"
     ]
    }
   ],
   "source": [
    "input1 = input(\"첫번째 숫자를 입력하세요: \")\n",
    "input2 = input(\"두번재 숫자를 입력하세요: \")\n",
    "\n",
    "total = int(input1) + int(input2)\n",
    "\n",
    "print(\"두 수의 합은 %d입니다.\" % total)"
   ]
  },
  {
   "cell_type": "markdown",
   "metadata": {},
   "source": [
    "## Q4. What will be different?"
   ]
  },
  {
   "cell_type": "code",
   "execution_count": 14,
   "metadata": {},
   "outputs": [
    {
     "name": "stdout",
     "output_type": "stream",
     "text": [
      "youneedpython\n",
      "youneedpython\n",
      "you need python\n",
      "youneedpython\n"
     ]
    }
   ],
   "source": [
    "print(\"you\" \"need\" \"python\")\n",
    "print(\"you\" + \"need\" + \"python\")\n",
    "print(\"you\", \"need\", \"python\")\n",
    "print(\"\".join([\"you\",\"need\",\"python\"]))"
   ]
  },
  {
   "cell_type": "markdown",
   "metadata": {},
   "source": [
    "## Q5. Modify program"
   ]
  },
  {
   "cell_type": "code",
   "execution_count": 15,
   "metadata": {
    "scrolled": true
   },
   "outputs": [
    {
     "name": "stdout",
     "output_type": "stream",
     "text": [
      "Life is too short\n"
     ]
    }
   ],
   "source": [
    "with open(\"test.txt\", 'w') as f1:\n",
    "    f1.write(\"Life is too short\")\n",
    "    \n",
    "f2 = open(\"test.txt\", 'r')\n",
    "print(f2.read())"
   ]
  },
  {
   "cell_type": "markdown",
   "metadata": {},
   "source": [
    "## Q6. make program"
   ]
  },
  {
   "cell_type": "code",
   "execution_count": 31,
   "metadata": {},
   "outputs": [],
   "source": [
    "with open(\"make.txt\", 'w') as f:\n",
    "    for i in range(1,10):\n",
    "        for j in range(1, 10):\n",
    "            data = \"%d입니다. \\n\" %(i*j)\n",
    "            f.write(data)"
   ]
  },
  {
   "cell_type": "code",
   "execution_count": 32,
   "metadata": {},
   "outputs": [
    {
     "name": "stdout",
     "output_type": "stream",
     "text": [
      "1입니다. \n",
      "2입니다. \n",
      "3입니다. \n",
      "4입니다. \n",
      "5입니다. \n",
      "6입니다. \n",
      "7입니다. \n",
      "8입니다. \n",
      "9입니다. \n",
      "2입니다. \n",
      "4입니다. \n",
      "6입니다. \n",
      "8입니다. \n",
      "10입니다. \n",
      "12입니다. \n",
      "14입니다. \n",
      "16입니다. \n",
      "18입니다. \n",
      "3입니다. \n",
      "6입니다. \n",
      "9입니다. \n",
      "12입니다. \n",
      "15입니다. \n",
      "18입니다. \n",
      "21입니다. \n",
      "24입니다. \n",
      "27입니다. \n",
      "4입니다. \n",
      "8입니다. \n",
      "12입니다. \n",
      "16입니다. \n",
      "20입니다. \n",
      "24입니다. \n",
      "28입니다. \n",
      "32입니다. \n",
      "36입니다. \n",
      "5입니다. \n",
      "10입니다. \n",
      "15입니다. \n",
      "20입니다. \n",
      "25입니다. \n",
      "30입니다. \n",
      "35입니다. \n",
      "40입니다. \n",
      "45입니다. \n",
      "6입니다. \n",
      "12입니다. \n",
      "18입니다. \n",
      "24입니다. \n",
      "30입니다. \n",
      "36입니다. \n",
      "42입니다. \n",
      "48입니다. \n",
      "54입니다. \n",
      "7입니다. \n",
      "14입니다. \n",
      "21입니다. \n",
      "28입니다. \n",
      "35입니다. \n",
      "42입니다. \n",
      "49입니다. \n",
      "56입니다. \n",
      "63입니다. \n",
      "8입니다. \n",
      "16입니다. \n",
      "24입니다. \n",
      "32입니다. \n",
      "40입니다. \n",
      "48입니다. \n",
      "56입니다. \n",
      "64입니다. \n",
      "72입니다. \n",
      "9입니다. \n",
      "18입니다. \n",
      "27입니다. \n",
      "36입니다. \n",
      "45입니다. \n",
      "54입니다. \n",
      "63입니다. \n",
      "72입니다. \n",
      "81입니다. \n",
      "\n"
     ]
    }
   ],
   "source": [
    "f = open(\"make.txt\", 'r')\n",
    "\n",
    "print(f.read())"
   ]
  },
  {
   "cell_type": "markdown",
   "metadata": {},
   "source": [
    "## Q7. java -> python"
   ]
  },
  {
   "cell_type": "code",
   "execution_count": 41,
   "metadata": {},
   "outputs": [],
   "source": [
    "with open(\"Q7.txt\", 'w') as f:\n",
    "    f.write(\"Life is too short \\n you need java\")"
   ]
  },
  {
   "cell_type": "code",
   "execution_count": 42,
   "metadata": {},
   "outputs": [],
   "source": [
    "f1 = open(\"Q7.txt\", 'r')\n",
    "body = f1.read()\n",
    "f.close()\n",
    "\n",
    "body = body.replace('java', 'python')"
   ]
  },
  {
   "cell_type": "code",
   "execution_count": 43,
   "metadata": {},
   "outputs": [],
   "source": [
    "f = open(\"Q7.txt\", 'w')\n",
    "f.write(body)\n",
    "f.close()"
   ]
  },
  {
   "cell_type": "code",
   "execution_count": 45,
   "metadata": {},
   "outputs": [
    {
     "name": "stdout",
     "output_type": "stream",
     "text": [
      "Life is too short \n",
      " you need python\n"
     ]
    }
   ],
   "source": [
    "f = open(\"Q7.txt\", 'r')\n",
    "print(f.read())"
   ]
  }
 ],
 "metadata": {
  "kernelspec": {
   "display_name": "Python 3",
   "language": "python",
   "name": "python3"
  },
  "language_info": {
   "codemirror_mode": {
    "name": "ipython",
    "version": 3
   },
   "file_extension": ".py",
   "mimetype": "text/x-python",
   "name": "python",
   "nbconvert_exporter": "python",
   "pygments_lexer": "ipython3",
   "version": "3.7.5"
  }
 },
 "nbformat": 4,
 "nbformat_minor": 2
}
