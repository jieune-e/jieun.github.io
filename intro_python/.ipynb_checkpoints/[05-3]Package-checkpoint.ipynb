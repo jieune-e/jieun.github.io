{
 "cells": [
  {
   "cell_type": "markdown",
   "metadata": {},
   "source": [
    "# Package\n",
    "\n",
    "-파이썬 모듈을 hierarchical하게 디렉터리 구조로 관리할 수 있게 해줌\n",
    "\n",
    "-a.b : 패키지 이름(a), 모듈 이름(b)\n",
    "\n",
    "-패키지는 디렉터리와 파이썬 모듈로 이루어짐\n",
    "\n",
    "    game/\n",
    "        __init__.py\n",
    "        \n",
    "        sound/\n",
    "            __init__.py\n",
    "            echo.py\n",
    "            wav.py\n",
    "            \n",
    "        graphic/\n",
    "            __init__.py\n",
    "            screen.py\n",
    "            render.py\n",
    "            \n",
    "        play/\n",
    "            __init__.py\n",
    "            run.py\n",
    "            test.py\n",
    "            \n",
    "\n",
    "-game 디렉터리가 루트 디렉터리, sound, graphic, play는 서브 디렉터리"
   ]
  },
  {
   "cell_type": "markdown",
   "metadata": {},
   "source": [
    "## __init__.py 의 용도\n",
    "\n",
    "-해당 디렉터리가 패키지의 일부임을 알려주는 역할을 함\n",
    "\n",
    "-하위버전 호환을 위해서 필요함"
   ]
  },
  {
   "cell_type": "markdown",
   "metadata": {},
   "source": [
    "### from game.sound import *\n",
    "\n",
    "\n",
    "-이렇게 모듈을 *을 사용해서 모두 불러오고 싶을 때는 __init__.py에 __all__ 변수 설정\n",
    "\n",
    "    # __init__.py\n",
    "    __all__ = ['echo'] # *을 사용했을 때 echo 모듈만 import 된다는 뜻"
   ]
  },
  {
   "cell_type": "markdown",
   "metadata": {},
   "source": [
    "## relative package\n",
    "\n",
    "-동등한 위계서열을 가진 graphic 디렉터리의 render 모듈이 sound 디렉터리의 echo 모듈을\n",
    "사용하고 싶다면?\n",
    "\n",
    "-render.py를 수정\n",
    "\n",
    "-relative 접근자는 부모 디렉터리를 나타내는 (..)가 있음; 모듈 안에서만 사용해야 함"
   ]
  },
  {
   "cell_type": "code",
   "execution_count": null,
   "metadata": {},
   "outputs": [],
   "source": [
    "# 실행은 하지 말기\n",
    "\n",
    "# render.py\n",
    "\n",
    "from game.sound.echo import echo_test\n",
    "#from ..sound.echo import echo_test로 부모 디렉터리가 동일하므로 이렇게 해줘도 됨\n",
    "def render_test():\n",
    "    print(\"render\")\n",
    "    echo_test()"
   ]
  },
  {
   "cell_type": "code",
   "execution_count": null,
   "metadata": {},
   "outputs": [],
   "source": [
    "from game.graphic.render import render_test\n",
    "render_test()\n",
    "\n",
    "# 실행결과는 render, echo로 수행될 것"
   ]
  }
 ],
 "metadata": {
  "kernelspec": {
   "display_name": "Python 3",
   "language": "python",
   "name": "python3"
  },
  "language_info": {
   "codemirror_mode": {
    "name": "ipython",
    "version": 3
   },
   "file_extension": ".py",
   "mimetype": "text/x-python",
   "name": "python",
   "nbconvert_exporter": "python",
   "pygments_lexer": "ipython3",
   "version": "3.7.4"
  }
 },
 "nbformat": 4,
 "nbformat_minor": 2
}
