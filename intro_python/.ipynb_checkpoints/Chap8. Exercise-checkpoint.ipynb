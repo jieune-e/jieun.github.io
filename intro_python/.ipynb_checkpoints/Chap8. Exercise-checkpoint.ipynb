{
 "cells": [
  {
   "cell_type": "markdown",
   "metadata": {},
   "source": [
    "## Q1. Using split & join"
   ]
  },
  {
   "cell_type": "code",
   "execution_count": 5,
   "metadata": {},
   "outputs": [
    {
     "name": "stdout",
     "output_type": "stream",
     "text": [
      "['a', 'b', 'c', 'd']\n",
      "a#b#c#d\n"
     ]
    }
   ],
   "source": [
    "str = \"a:b:c:d\"\n",
    "\n",
    "spl_str = str.split(\":\")\n",
    "print(spl_str)\n",
    "\n",
    "final_str = \"#\".join(spl_str)\n",
    "print(final_str)"
   ]
  },
  {
   "cell_type": "markdown",
   "metadata": {},
   "source": [
    "## Q2. Dictionary"
   ]
  },
  {
   "cell_type": "code",
   "execution_count": 6,
   "metadata": {},
   "outputs": [
    {
     "data": {
      "text/plain": [
       "70"
      ]
     },
     "execution_count": 6,
     "metadata": {},
     "output_type": "execute_result"
    }
   ],
   "source": [
    "a = {'A':90, 'B':80}\n",
    "a['C'] = 70\n",
    "\n",
    "a['C']"
   ]
  },
  {
   "cell_type": "markdown",
   "metadata": {},
   "source": [
    "## Q3. What is difference btw Sum of list & Extend( )"
   ]
  },
  {
   "cell_type": "code",
   "execution_count": 7,
   "metadata": {},
   "outputs": [],
   "source": [
    "a = [1,2,3]\n",
    "\n",
    "a = a + [4,5]"
   ]
  },
  {
   "cell_type": "code",
   "execution_count": 8,
   "metadata": {},
   "outputs": [],
   "source": [
    "a = [1,2,3]\n",
    "a.extend([4,5])"
   ]
  },
  {
   "cell_type": "markdown",
   "metadata": {},
   "source": [
    "## Q4. Sum of list"
   ]
  },
  {
   "cell_type": "code",
   "execution_count": 2,
   "metadata": {},
   "outputs": [],
   "source": [
    "A = [20, 55, 67, 82, 45, 33, 90, 87, 100, 25]\n",
    "\n",
    "# 50점 이상의 총합"
   ]
  },
  {
   "cell_type": "code",
   "execution_count": 3,
   "metadata": {},
   "outputs": [
    {
     "data": {
      "text/plain": [
       "20"
      ]
     },
     "execution_count": 3,
     "metadata": {},
     "output_type": "execute_result"
    }
   ],
   "source": [
    "A[0]"
   ]
  },
  {
   "cell_type": "code",
   "execution_count": 9,
   "metadata": {},
   "outputs": [
    {
     "name": "stdout",
     "output_type": "stream",
     "text": [
      "481\n"
     ]
    }
   ],
   "source": [
    "result = 0\n",
    "\n",
    "for i in range(0, 10):\n",
    "    if A[i] >= 50:\n",
    "        result += A[i]\n",
    "                \n",
    "print(result)"
   ]
  },
  {
   "cell_type": "code",
   "execution_count": 10,
   "metadata": {},
   "outputs": [
    {
     "name": "stdout",
     "output_type": "stream",
     "text": [
      "481\n"
     ]
    }
   ],
   "source": [
    "## 모범답안\n",
    "\n",
    "A = [20, 55, 67, 82, 45, 33, 90, 87, 100, 25]\n",
    "\n",
    "result = 0\n",
    "\n",
    "while A:\n",
    "    mark = A.pop() # A 리스트의 가장 마지막 값을 뽑아내서 삭제\n",
    "    if mark >= 50:\n",
    "        result += mark\n",
    "        \n",
    "print(result)"
   ]
  },
  {
   "cell_type": "markdown",
   "metadata": {},
   "source": [
    "## Q5. Fibonacci\n",
    "\n",
    "0\n",
    "1\n",
    "1\n",
    "2\n",
    "3\n",
    "5"
   ]
  },
  {
   "cell_type": "code",
   "execution_count": 14,
   "metadata": {},
   "outputs": [],
   "source": [
    "def fibo(n):\n",
    "    if n == 0: return 0\n",
    "    if n == 1: return 1\n",
    "    return fibo(n-2) + fibo(n-1) # 2 이상일 때"
   ]
  },
  {
   "cell_type": "code",
   "execution_count": 15,
   "metadata": {},
   "outputs": [
    {
     "name": "stdout",
     "output_type": "stream",
     "text": [
      "0\n",
      "1\n",
      "1\n",
      "2\n",
      "3\n",
      "5\n",
      "8\n",
      "13\n",
      "21\n",
      "34\n"
     ]
    }
   ],
   "source": [
    "for i in range(10):\n",
    "    print(fibo(i))"
   ]
  },
  {
   "cell_type": "markdown",
   "metadata": {},
   "source": [
    "## Q6. 숫자 총합 구하기"
   ]
  },
  {
   "cell_type": "code",
   "execution_count": 24,
   "metadata": {},
   "outputs": [
    {
     "name": "stdout",
     "output_type": "stream",
     "text": [
      "숫자를 입력하세요: 1,2,3\n",
      "6\n"
     ]
    }
   ],
   "source": [
    "user_input = input(\"숫자를 입력하세요: \")\n",
    "numbers = user_input.split(\",\") # ,에 따라서 쪼개서 리스트로 만들어줌\n",
    "\n",
    "total = 0\n",
    "\n",
    "for n in numbers: # 리스트에 있는 각각 숫자들에 대해서\n",
    "    total += int(n) # string -> number\n",
    "    \n",
    "print(total)"
   ]
  },
  {
   "cell_type": "code",
   "execution_count": 18,
   "metadata": {
    "scrolled": true
   },
   "outputs": [
    {
     "name": "stdout",
     "output_type": "stream",
     "text": [
      "['1', '2', '3']\n"
     ]
    }
   ],
   "source": [
    "a = \"1,2,3\"\n",
    "\n",
    "num = a.split(\",\")\n",
    "print(num)"
   ]
  },
  {
   "cell_type": "code",
   "execution_count": 19,
   "metadata": {},
   "outputs": [
    {
     "name": "stdout",
     "output_type": "stream",
     "text": [
      "1\n",
      "2\n",
      "3\n"
     ]
    }
   ],
   "source": [
    "for n in num:\n",
    "    print(n)"
   ]
  },
  {
   "cell_type": "markdown",
   "metadata": {},
   "source": [
    "## Q7. 한줄 구구단"
   ]
  },
  {
   "cell_type": "code",
   "execution_count": 26,
   "metadata": {},
   "outputs": [
    {
     "name": "stdout",
     "output_type": "stream",
     "text": [
      "몇 단?: 2\n",
      "2 4 6 8 10 12 14 16 18 "
     ]
    }
   ],
   "source": [
    "user_input = input(\"몇 단?: \")\n",
    "dan = int(user_input)\n",
    "\n",
    "for i in range(1, 10):\n",
    "    print(dan*i, end = \" \")"
   ]
  },
  {
   "cell_type": "markdown",
   "metadata": {},
   "source": [
    "## Q8. 역순 저장"
   ]
  },
  {
   "cell_type": "code",
   "execution_count": 27,
   "metadata": {},
   "outputs": [
    {
     "ename": "FileNotFoundError",
     "evalue": "[Errno 2] No such file or directory: 'abc.txt'",
     "output_type": "error",
     "traceback": [
      "\u001b[0;31m---------------------------------------------------------------------------\u001b[0m",
      "\u001b[0;31mFileNotFoundError\u001b[0m                         Traceback (most recent call last)",
      "\u001b[0;32m<ipython-input-27-283f7e4b0c1a>\u001b[0m in \u001b[0;36m<module>\u001b[0;34m\u001b[0m\n\u001b[1;32m      1\u001b[0m \u001b[0;31m# 1. 파일 열기\u001b[0m\u001b[0;34m\u001b[0m\u001b[0;34m\u001b[0m\u001b[0;34m\u001b[0m\u001b[0m\n\u001b[0;32m----> 2\u001b[0;31m \u001b[0mf\u001b[0m \u001b[0;34m=\u001b[0m \u001b[0mopen\u001b[0m\u001b[0;34m(\u001b[0m\u001b[0;34m'abc.txt'\u001b[0m\u001b[0;34m,\u001b[0m \u001b[0;34m'r'\u001b[0m\u001b[0;34m)\u001b[0m\u001b[0;34m\u001b[0m\u001b[0;34m\u001b[0m\u001b[0m\n\u001b[0m\u001b[1;32m      3\u001b[0m \u001b[0mlines\u001b[0m \u001b[0;34m=\u001b[0m \u001b[0mf\u001b[0m\u001b[0;34m.\u001b[0m\u001b[0mreadlines\u001b[0m\u001b[0;34m(\u001b[0m\u001b[0;34m)\u001b[0m \u001b[0;31m# 모든 라인을 다 읽음\u001b[0m\u001b[0;34m\u001b[0m\u001b[0;34m\u001b[0m\u001b[0m\n\u001b[1;32m      4\u001b[0m \u001b[0mf\u001b[0m\u001b[0;34m.\u001b[0m\u001b[0mclose\u001b[0m\u001b[0;34m(\u001b[0m\u001b[0;34m)\u001b[0m\u001b[0;34m\u001b[0m\u001b[0;34m\u001b[0m\u001b[0m\n\u001b[1;32m      5\u001b[0m \u001b[0;34m\u001b[0m\u001b[0m\n",
      "\u001b[0;31mFileNotFoundError\u001b[0m: [Errno 2] No such file or directory: 'abc.txt'"
     ]
    }
   ],
   "source": [
    "# 1. 파일 열기\n",
    "f = open('abc.txt', 'r')\n",
    "lines = f.readlines() # 모든 라인을 다 읽음\n",
    "f.close()\n",
    "\n",
    "# 2. 역순으로 정렬\n",
    "lines.reverse()\n",
    "\n",
    "# 3. 다시 저장\n",
    "f = open('abc.txt', 'r')\n",
    "for line in lines:\n",
    "    line = line.strip() # 줄바꿈 문자 제거\n",
    "    f.write(line)\n",
    "    f.write('\\n') # 줄바꿈 문자 삽입\n",
    "    \n",
    "f.close()"
   ]
  },
  {
   "cell_type": "markdown",
   "metadata": {},
   "source": [
    "## Q9. 평균값 구하기"
   ]
  },
  {
   "cell_type": "code",
   "execution_count": null,
   "metadata": {},
   "outputs": [],
   "source": [
    "f = open(\"sample.txt\")\n",
    "lines = f.readlines()\n",
    "f.close()\n",
    "\n",
    "total = 0\n",
    "\n",
    "for line in lines:\n",
    "    score = int(line)\n",
    "    total += score\n",
    "    \n",
    "avg = total / len(lines)\n",
    "\n",
    "f = open(\"resul.txt\", 'w')\n",
    "f.write(str(avg)) # 숫자값은 바로 쓸 수 없으므로 str함수 사용\n",
    "f.close()"
   ]
  },
  {
   "cell_type": "markdown",
   "metadata": {},
   "source": [
    "## Q10. 사칙연산 계산기"
   ]
  },
  {
   "cell_type": "code",
   "execution_count": 37,
   "metadata": {},
   "outputs": [],
   "source": [
    "class Calcul:\n",
    "    def __init__(self, numberlist):\n",
    "        self.numberlist = numberlist\n",
    "        \n",
    "    def add(self):\n",
    "        result = 0\n",
    "        \n",
    "        for num in self.numberlist:\n",
    "            result += num\n",
    "            \n",
    "        return result\n",
    "    \n",
    "    def mul(self):\n",
    "        result = 1\n",
    "        \n",
    "        for num in self.numberlist:\n",
    "            result *= num\n",
    "        \n",
    "        return result\n",
    "    \n",
    "    def avg(self):\n",
    "        total = self.add()\n",
    "        return total / len(self.numberlist)\n",
    "            "
   ]
  },
  {
   "cell_type": "code",
   "execution_count": 38,
   "metadata": {},
   "outputs": [],
   "source": [
    "call = Calcul([3,3,3])"
   ]
  },
  {
   "cell_type": "code",
   "execution_count": 39,
   "metadata": {},
   "outputs": [
    {
     "name": "stdout",
     "output_type": "stream",
     "text": [
      "27\n"
     ]
    }
   ],
   "source": [
    "print(call.mul())"
   ]
  },
  {
   "cell_type": "code",
   "execution_count": 40,
   "metadata": {},
   "outputs": [
    {
     "name": "stdout",
     "output_type": "stream",
     "text": [
      "3.0\n"
     ]
    }
   ],
   "source": [
    "print(call.avg())"
   ]
  },
  {
   "cell_type": "markdown",
   "metadata": {},
   "source": [
    "## Q13. DashInsert\n",
    "\n",
    "-홀수 연속: - 추가\n",
    "\n",
    "-짝수 연속: * 추가"
   ]
  },
  {
   "cell_type": "code",
   "execution_count": 42,
   "metadata": {},
   "outputs": [
    {
     "data": {
      "text/plain": [
       "[4, 5, 4, 6, 7, 9, 3]"
      ]
     },
     "execution_count": 42,
     "metadata": {},
     "output_type": "execute_result"
    }
   ],
   "source": [
    "data = \"4546793\"\n",
    "numbers = list( map(int, data))\n",
    "numbers"
   ]
  },
  {
   "cell_type": "code",
   "execution_count": 45,
   "metadata": {
    "scrolled": true
   },
   "outputs": [
    {
     "name": "stdout",
     "output_type": "stream",
     "text": [
      "454*67-9-3\n"
     ]
    }
   ],
   "source": [
    "result = [ ]\n",
    "\n",
    "for i, num in enumerate(numbers):\n",
    "    result.append(str(num))\n",
    "    \n",
    "    if i < len(numbers)-1:\n",
    "        is_odd = num % 2 == 1\n",
    "        is_next_odd = numbers[i+1] % 2 == 1\n",
    "        \n",
    "        if is_odd and is_next_odd:\n",
    "            result.append(\"-\")\n",
    "            \n",
    "        elif not is_odd and not is_next_odd:\n",
    "            result.append(\"*\")\n",
    "            \n",
    "print(\"\".join(result))"
   ]
  },
  {
   "cell_type": "code",
   "execution_count": 46,
   "metadata": {},
   "outputs": [
    {
     "data": {
      "text/plain": [
       "[4, 5, 4, 6, 7, 9, 3]"
      ]
     },
     "execution_count": 46,
     "metadata": {},
     "output_type": "execute_result"
    }
   ],
   "source": [
    "data = \"4546793\"\n",
    "\n",
    "numbers = list( map(int, data))\n",
    "numbers"
   ]
  },
  {
   "cell_type": "code",
   "execution_count": 53,
   "metadata": {},
   "outputs": [
    {
     "name": "stdout",
     "output_type": "stream",
     "text": [
      "i는 0, num은 4, result는 ['4']\n",
      "i는 1, num은 5, result는 ['4', '5']\n",
      "i는 2, num은 4, result는 ['4', '5', '4']\n",
      "i는 3, num은 6, result는 ['4', '5', '4', '6']\n",
      "i는 4, num은 7, result는 ['4', '5', '4', '6', '7']\n",
      "i는 5, num은 9, result는 ['4', '5', '4', '6', '7', '9']\n",
      "i는 6, num은 3, result는 ['4', '5', '4', '6', '7', '9', '3']\n"
     ]
    }
   ],
   "source": [
    "result = [ ]\n",
    "\n",
    "for i, num in enumerate(numbers):\n",
    "    result.append(str(num))\n",
    "    print(\"i는 {}, num은 {}, result는 {}\" .format(i, num, result))\n"
   ]
  },
  {
   "cell_type": "code",
   "execution_count": 102,
   "metadata": {},
   "outputs": [
    {
     "name": "stdout",
     "output_type": "stream",
     "text": [
      "숫자를 입력하세요: 1345688\n"
     ]
    }
   ],
   "source": [
    "data = input(\"숫자를 입력하세요: \")\n",
    "\n",
    "numbers = list( map(int, data) )"
   ]
  },
  {
   "cell_type": "code",
   "execution_count": 103,
   "metadata": {},
   "outputs": [
    {
     "name": "stdout",
     "output_type": "stream",
     "text": [
      "1-3456*8*8\n"
     ]
    }
   ],
   "source": [
    "result = [ ]\n",
    "\n",
    "for i, num in enumerate(numbers):\n",
    "    result.append(str(num))\n",
    "    \n",
    "    if i < len(numbers)-1: # numbers 길이 동안에\n",
    "        is_odd = num % 2 == 1\n",
    "        is_next_odd = numbers[i+1] % 2 == 1 # num이랑 numbers랑 다르네; num은 numbers에 속한 것...\n",
    "        \n",
    "        if is_odd and is_next_odd:\n",
    "            result.append(\"-\")\n",
    "            \n",
    "        elif not is_odd and not is_next_odd:\n",
    "            result.append(\"*\")\n",
    "            \n",
    "print(\"\".join(result))"
   ]
  },
  {
   "cell_type": "markdown",
   "metadata": {},
   "source": [
    "## Q14. 문자열 압축\n",
    "aaabbcccccca -> a3b2c6a1"
   ]
  },
  {
   "cell_type": "code",
   "execution_count": 12,
   "metadata": {},
   "outputs": [
    {
     "data": {
      "text/plain": [
       "'aaabbcccccca'"
      ]
     },
     "execution_count": 12,
     "metadata": {},
     "output_type": "execute_result"
    }
   ],
   "source": [
    "data = \"aaabbcccccca\"\n",
    "data"
   ]
  },
  {
   "cell_type": "code",
   "execution_count": 17,
   "metadata": {},
   "outputs": [],
   "source": [
    "def compress(s):\n",
    "    _c = \"\"\n",
    "    cnt = 0\n",
    "    result = \"\"\n",
    "    \n",
    "    for c in s:\n",
    "        if c != _c:\n",
    "            _c = c\n",
    "            \n",
    "            if cnt: result += str(cnt)\n",
    "            \n",
    "            result += c\n",
    "            cnt = 1\n",
    "            \n",
    "        else:\n",
    "            cnt += 1\n",
    "            \n",
    "    if cnt: result += str(cnt)\n",
    "    return result\n",
    "            \n",
    "            "
   ]
  },
  {
   "cell_type": "code",
   "execution_count": 18,
   "metadata": {},
   "outputs": [
    {
     "name": "stdout",
     "output_type": "stream",
     "text": [
      "a3b2c6a1\n"
     ]
    }
   ],
   "source": [
    "print(compress(data))"
   ]
  },
  {
   "cell_type": "code",
   "execution_count": 133,
   "metadata": {},
   "outputs": [],
   "source": [
    "def compress(strings):\n",
    "    \n",
    "    letter = \"\"\n",
    "    res = \"\"\n",
    "    cnt = 1\n",
    "        \n",
    "    for i, string in enumerate(strings):\n",
    "        if i < len(strings)-1:\n",
    "            is_same = string == strings[i+1]\n",
    "            \n",
    "            if is_same == True:\n",
    "                cnt += 1\n",
    "                \n",
    "            elif is_same == False:\n",
    "                res += string\n",
    "                res += str(cnt)\n",
    "                cnt = 1\n",
    "            \n",
    "        if i == len(strings)-1:\n",
    "            is_same = string == strings[i-1]\n",
    "            \n",
    "            if is_same == True:\n",
    "                cnt += 1\n",
    "                res += string\n",
    "                res += str(cnt)\n",
    "                \n",
    "            elif is_same == False:\n",
    "                res += string\n",
    "                res += str(cnt)\n",
    "                cnt = 1\n",
    "    return res\n",
    "            \n",
    "        "
   ]
  },
  {
   "cell_type": "code",
   "execution_count": 136,
   "metadata": {},
   "outputs": [
    {
     "data": {
      "text/plain": [
       "'a2b2c4d3e1f1'"
      ]
     },
     "execution_count": 136,
     "metadata": {},
     "output_type": "execute_result"
    }
   ],
   "source": [
    "compress(\"aabbccccdddef\")"
   ]
  },
  {
   "cell_type": "markdown",
   "metadata": {},
   "source": [
    "## Q15. Check whether there exist duplicated numbers"
   ]
  },
  {
   "cell_type": "code",
   "execution_count": 143,
   "metadata": {},
   "outputs": [
    {
     "name": "stdout",
     "output_type": "stream",
     "text": [
      "숫자를 입력하시오: 1234555566\n"
     ]
    },
    {
     "data": {
      "text/plain": [
       "'1234555566'"
      ]
     },
     "execution_count": 143,
     "metadata": {},
     "output_type": "execute_result"
    }
   ],
   "source": [
    "data = input(\"숫자를 입력하시오: \")\n",
    "data"
   ]
  },
  {
   "cell_type": "code",
   "execution_count": 146,
   "metadata": {},
   "outputs": [
    {
     "data": {
      "text/plain": [
       "{'1', '2', '3', '4', '5', '6'}"
      ]
     },
     "execution_count": 146,
     "metadata": {},
     "output_type": "execute_result"
    }
   ],
   "source": [
    "set(data)"
   ]
  },
  {
   "cell_type": "code",
   "execution_count": 142,
   "metadata": {},
   "outputs": [],
   "source": [
    "def checkdup(numbers):\n",
    "    result = []\n",
    "    \n",
    "    for num in numbers:\n",
    "        if num not in result:\n",
    "            result.append(num)\n",
    "            \n",
    "        else:\n",
    "            return False\n",
    "        \n",
    "    return len(result) == 10\n",
    "        "
   ]
  },
  {
   "cell_type": "code",
   "execution_count": 144,
   "metadata": {},
   "outputs": [
    {
     "data": {
      "text/plain": [
       "False"
      ]
     },
     "execution_count": 144,
     "metadata": {},
     "output_type": "execute_result"
    }
   ],
   "source": [
    "checkdup(data)"
   ]
  },
  {
   "cell_type": "code",
   "execution_count": 145,
   "metadata": {},
   "outputs": [
    {
     "data": {
      "text/plain": [
       "True"
      ]
     },
     "execution_count": 145,
     "metadata": {},
     "output_type": "execute_result"
    }
   ],
   "source": [
    "checkdup(\"1234567890\")"
   ]
  },
  {
   "cell_type": "code",
   "execution_count": 155,
   "metadata": {},
   "outputs": [],
   "source": [
    "## \"Set\" function\n",
    "\n",
    "def checkdup(numbers):\n",
    "    unique_numbers = set(data)\n",
    "    \n",
    "    if len(numbers) == 10:\n",
    "        if len(numbers) > len(set(numbers)):\n",
    "                              return False\n",
    "                          \n",
    "        else: \n",
    "            return True\n",
    "    "
   ]
  },
  {
   "cell_type": "code",
   "execution_count": 157,
   "metadata": {},
   "outputs": [
    {
     "data": {
      "text/plain": [
       "True"
      ]
     },
     "execution_count": 157,
     "metadata": {},
     "output_type": "execute_result"
    }
   ],
   "source": [
    "checkdup(\"1234567890\")"
   ]
  },
  {
   "cell_type": "code",
   "execution_count": 160,
   "metadata": {},
   "outputs": [],
   "source": [
    "## \"For\" loop\n",
    "\n",
    "def checkdup(numbers):\n",
    "    for i in range(len(numbers)-1):\n",
    "        for j in range(i+1, len(numbers)):\n",
    "            if numbers[i] == numbers[j]:\n",
    "                return False\n",
    "                       \n",
    "            if numbers[i] != numbers[j] and len(numbers)==10:\n",
    "                return True"
   ]
  },
  {
   "cell_type": "code",
   "execution_count": 161,
   "metadata": {},
   "outputs": [
    {
     "data": {
      "text/plain": [
       "True"
      ]
     },
     "execution_count": 161,
     "metadata": {},
     "output_type": "execute_result"
    }
   ],
   "source": [
    "checkdup(\"1234567890\")"
   ]
  },
  {
   "cell_type": "code",
   "execution_count": 162,
   "metadata": {},
   "outputs": [
    {
     "data": {
      "text/plain": [
       "False"
      ]
     },
     "execution_count": 162,
     "metadata": {},
     "output_type": "execute_result"
    }
   ],
   "source": [
    "checkdup(\"12345556899\")"
   ]
  },
  {
   "cell_type": "markdown",
   "metadata": {},
   "source": [
    "## Q19. Grouping"
   ]
  },
  {
   "cell_type": "code",
   "execution_count": 164,
   "metadata": {},
   "outputs": [],
   "source": [
    "# 1. 전화번호 패턴\n",
    "import re\n",
    "pat = re.compile(\"(\\d{3}[-]\\d{4})[-]\\d{4}\")"
   ]
  },
  {
   "cell_type": "code",
   "execution_count": 165,
   "metadata": {},
   "outputs": [
    {
     "name": "stdout",
     "output_type": "stream",
     "text": [
      "\n",
      "park 010-9999-####\n",
      "kim 010-9909-####\n",
      "lee 010-8789-####\n",
      "\n"
     ]
    }
   ],
   "source": [
    "# 2. 문자열 변경\n",
    "\n",
    "s = \"\"\"\n",
    "park 010-9999-9988\n",
    "kim 010-9909-7789\n",
    "lee 010-8789-7768\n",
    "\"\"\"\n",
    "\n",
    "result = pat.sub(\"\\g<1>-####\", s)\n",
    "\n",
    "print(result)"
   ]
  }
 ],
 "metadata": {
  "kernelspec": {
   "display_name": "Python 3",
   "language": "python",
   "name": "python3"
  },
  "language_info": {
   "codemirror_mode": {
    "name": "ipython",
    "version": 3
   },
   "file_extension": ".py",
   "mimetype": "text/x-python",
   "name": "python",
   "nbconvert_exporter": "python",
   "pygments_lexer": "ipython3",
   "version": "3.7.4"
  }
 },
 "nbformat": 4,
 "nbformat_minor": 2
}
