{
 "cells": [
  {
   "cell_type": "markdown",
   "metadata": {},
   "source": [
    "# Regular Expression"
   ]
  },
  {
   "cell_type": "markdown",
   "metadata": {},
   "source": [
    "# 1. Meta Characters (메타 문자)\n",
    "\n",
    "-원래 그 문자가 가진 뜻이 아닌 특별한 용도로 사용하는 문자\n",
    "\n",
    "예) . ^ & + ? { } [ ] \\ | ( )"
   ]
  },
  {
   "cell_type": "markdown",
   "metadata": {},
   "source": [
    "## 1. 문자 클래스: [ ]\n",
    "\n",
    "-[ ] 사이의 문자들과 매치\n",
    "\n",
    "예1) [abc]라면 \"a, b, c 중 한 개의 문자와 매치\"\n",
    "\n",
    "예2) [a-c]라면 [abc]와 동일, [0-5]라면 [012345]와 동일\n",
    "\n",
    "예3) [a-zA-Z] : 알파벳 대소문자 모두\n",
    "\n",
    "예4) [0-9] : 숫자\n",
    "\n",
    "-[^]를 쓰게 되면 not에 해당하는 것을 찾아줌\n",
    "\n",
    "예1) [^0-9] : 숫자가 아닌 문자만 매치"
   ]
  },
  {
   "cell_type": "markdown",
   "metadata": {},
   "source": [
    "### * 자주 사용하는 문자 클래스\n",
    "\n",
    "-[\\d] = [0-9] : 숫자와 동일\n",
    "\n",
    "-[\\D] = [^0-9] : 숫자가 아닌 문자만 매치\n",
    "\n",
    "-[\\s] : whitespace 문자와 매치\n",
    "\n",
    "-[\\S] : whitespace 문자가 아닌 것과 매치\n",
    "\n",
    "-[\\w] = [a-zA-Z0-9_] : 문자+숫자와 매치\n",
    "\n",
    "-[\\W] : 문자+숫자가 아닌 문자와 매치"
   ]
  },
  {
   "cell_type": "markdown",
   "metadata": {},
   "source": [
    "### 1. Dot (.)\n",
    "\n",
    "-Dot 메타 문자는 줄바꿈 문자인 \\n을 제외한 모든 문자와 매치됨을 의미함\n",
    "\n",
    "-a.b : \"a + 모든 문자 + b\"\n",
    "\n",
    "예1) a0b는 a,b 사이에 무슨 문자라도 있으므로 정규식과 매치됨\n",
    "\n",
    "예2) abc는 a,b 사이에 어떤 문자도 없으므로 정규식과 매치되지 않음\n",
    "\n",
    "- a[.]b : \"a + Dot(.) 문자 + b\"\n",
    "\n",
    "-그러니까 진짜로 문자 그대로 . 문자를 의미함"
   ]
  },
  {
   "cell_type": "markdown",
   "metadata": {},
   "source": [
    "### 2. 반복(*)\n",
    "\n",
    "-* 바로 앞에 있는 문자가 0부터 무한대로 반복될 수 있다는 의미\n",
    "\n",
    "예1) ca*t\n",
    "\n",
    "-ct는 매치됨 (a가 0번 반복)\n",
    "\n",
    "-caaaat는 매치됨 (a가 4번 반복)"
   ]
  },
  {
   "cell_type": "markdown",
   "metadata": {},
   "source": [
    "### 3. 반복(+)\n",
    "\n",
    "-최소 1번 이상 반복될 때 사용!\n",
    "\n",
    "예1) ca+t\n",
    "\n",
    "-ct는 매치 안 됨!\n",
    "\n",
    "-cat는 매치됨"
   ]
  },
  {
   "cell_type": "markdown",
   "metadata": {},
   "source": [
    "### 4. 반복( {m, n}, ?)\n",
    "\n",
    "-{m, n} 메타문자를 사용하면 반복횟수 고정 가능함 (m부터 n까지)\n",
    "\n",
    "예1) {3, } : 반복 횟수 3이상\n",
    "\n",
    "예2) {, 3} : 반복 횟수 3 이하\n",
    "\n",
    "예3) {1, } = +\n",
    "\n",
    "예4) {0, } = *\n",
    "\n",
    "\n",
    "* ca{2}t = \"c + a(반드시 2번 반복) + t\" = caat만 매치\n",
    "\n",
    "* ca{2, 5}t = \"c + a(2~5회 반복) + t\" = caat, caaat, caaaat 매치\n",
    "\n",
    "\n",
    "-? 메타문자는 {0,1}을 의미함\n",
    "\n",
    "예1) ab?c = \"a + b(있어도 되고 없어도 됨) + c\" = abc, ac 둘다 매치"
   ]
  },
  {
   "cell_type": "markdown",
   "metadata": {},
   "source": [
    "---\n",
    "## re 모듈\n",
    "\n",
    "-정규 표현식을 지원함\n",
    "\n",
    "-re.compile을 이용해서 정규표현식을 컴파일\n",
    "\n",
    "-컴파일된 정규식의 결과를 '패턴'이라고 함"
   ]
  },
  {
   "cell_type": "code",
   "execution_count": 1,
   "metadata": {},
   "outputs": [],
   "source": [
    "import re\n",
    "\n",
    "p = re.compile('ab*')"
   ]
  },
  {
   "cell_type": "markdown",
   "metadata": {},
   "source": [
    "---\n",
    "## 정규식을 이용한 문자열 검색에 관한 메서드\n",
    "\n",
    "1.match( ) : 문자열의 처음부터 정규식과 매치되는지 조사함\n",
    "\n",
    "2.search( ) : 문자열 전체를 검색하여 정규식과 매치되는지 조사함\n",
    "\n",
    "3.findall( ) : 정규식과 매치되는 모든 문자열(substring)을 리스트로 돌려줌\n",
    "\n",
    "4.finditer( ) : 정규식과 매치되는 모든 문자열을 반복 가능한 객체로 돌려줌"
   ]
  },
  {
   "cell_type": "code",
   "execution_count": 2,
   "metadata": {},
   "outputs": [],
   "source": [
    "# 일단 패턴을 만들어보자\n",
    "\n",
    "import re\n",
    "\n",
    "p = re.compile('[a-z]+') # 모든 알파벳 소문자에 대해서 1번 이상 나왔는지"
   ]
  },
  {
   "cell_type": "markdown",
   "metadata": {},
   "source": [
    "### 1. match\n",
    "\n",
    "-문자열의 처음부터 정규식과 매치되는가?"
   ]
  },
  {
   "cell_type": "code",
   "execution_count": 3,
   "metadata": {},
   "outputs": [
    {
     "name": "stdout",
     "output_type": "stream",
     "text": [
      "<re.Match object; span=(0, 6), match='python'>\n"
     ]
    }
   ],
   "source": [
    "m = p.match(\"python\") # 위 패턴에 match 메서드를 수행\n",
    "print(m)"
   ]
  },
  {
   "cell_type": "code",
   "execution_count": 5,
   "metadata": {},
   "outputs": [
    {
     "name": "stdout",
     "output_type": "stream",
     "text": [
      "None\n"
     ]
    }
   ],
   "source": [
    "m = p.match(\"3 python\") # 처음에 숫자니까 매치 안 됨\n",
    "print(m)"
   ]
  },
  {
   "cell_type": "code",
   "execution_count": 16,
   "metadata": {},
   "outputs": [
    {
     "name": "stdout",
     "output_type": "stream",
     "text": [
      "Match Found:  string\n"
     ]
    }
   ],
   "source": [
    "p = re.compile('[a-z]+')\n",
    "m = p.match('string goes here')\n",
    "\n",
    "if m:\n",
    "    print(\"Match Found: \", m.group())\n",
    "    \n",
    "else:\n",
    "    print(\"No Match\")"
   ]
  },
  {
   "cell_type": "markdown",
   "metadata": {},
   "source": [
    "### 2. search"
   ]
  },
  {
   "cell_type": "code",
   "execution_count": 17,
   "metadata": {},
   "outputs": [
    {
     "name": "stdout",
     "output_type": "stream",
     "text": [
      "<re.Match object; span=(0, 6), match='python'>\n"
     ]
    }
   ],
   "source": [
    "m = p.search(\"python\")\n",
    "print(m)"
   ]
  },
  {
   "cell_type": "code",
   "execution_count": 18,
   "metadata": {},
   "outputs": [
    {
     "name": "stdout",
     "output_type": "stream",
     "text": [
      "<re.Match object; span=(2, 8), match='python'>\n"
     ]
    }
   ],
   "source": [
    "m = p.search(\"3 python\")\n",
    "print(m)"
   ]
  },
  {
   "cell_type": "markdown",
   "metadata": {},
   "source": [
    "### 3. findall"
   ]
  },
  {
   "cell_type": "code",
   "execution_count": 20,
   "metadata": {},
   "outputs": [
    {
     "name": "stdout",
     "output_type": "stream",
     "text": [
      "['life', 'is', 'too', 'short']\n"
     ]
    }
   ],
   "source": [
    "result = p.findall(\"life is too short\")\n",
    "print(result)\n",
    "\n",
    "# 문자열의 단어 각각을 [a-z]+ 정규식과 매치해서 리스트로 돌려줌"
   ]
  },
  {
   "cell_type": "markdown",
   "metadata": {},
   "source": [
    "### 4. finditer\n",
    "\n",
    "-findall과 동일하지만 그 결과로 반복가능한 객체를 돌려줌\n",
    "\n",
    "-반복가능한 객체가 포함하는 각각의 요소는 match 객체"
   ]
  },
  {
   "cell_type": "code",
   "execution_count": 21,
   "metadata": {},
   "outputs": [
    {
     "name": "stdout",
     "output_type": "stream",
     "text": [
      "<callable_iterator object at 0x10bd23ed0>\n"
     ]
    }
   ],
   "source": [
    "result = p.finditer(\"life is too short\")\n",
    "print(result)"
   ]
  },
  {
   "cell_type": "code",
   "execution_count": 22,
   "metadata": {},
   "outputs": [
    {
     "name": "stdout",
     "output_type": "stream",
     "text": [
      "<re.Match object; span=(0, 4), match='life'>\n",
      "<re.Match object; span=(5, 7), match='is'>\n",
      "<re.Match object; span=(8, 11), match='too'>\n",
      "<re.Match object; span=(12, 17), match='short'>\n"
     ]
    }
   ],
   "source": [
    "for r in result: print(r)"
   ]
  },
  {
   "cell_type": "markdown",
   "metadata": {},
   "source": [
    "---\n",
    "## match 객체의 메서드\n",
    "\n",
    "-match 메서드와 search 메서드를 수행한 결과, match 객체를 돌려받았음\n",
    "\n",
    "1. group( ) : 매치된 문자열 돌려줌\n",
    "\n",
    "2. start( ) : 매치된 문자열의 시작위치를 돌려줌\n",
    "\n",
    "3. end( ) : 매치된 문자열의 끝 위치 돌려줌\n",
    "\n",
    "4. span( ) : 매치된 문자열의 (시작, 끝)에 해당하는 튜플을 돌려줌"
   ]
  },
  {
   "cell_type": "code",
   "execution_count": 23,
   "metadata": {},
   "outputs": [
    {
     "data": {
      "text/plain": [
       "'python'"
      ]
     },
     "execution_count": 23,
     "metadata": {},
     "output_type": "execute_result"
    }
   ],
   "source": [
    "m = p.match(\"python\")\n",
    "m.group()"
   ]
  },
  {
   "cell_type": "code",
   "execution_count": 26,
   "metadata": {},
   "outputs": [
    {
     "name": "stdout",
     "output_type": "stream",
     "text": [
      "0\n",
      "6\n",
      "(0, 6)\n"
     ]
    }
   ],
   "source": [
    "print(m.start())\n",
    "print(m.end())\n",
    "print(m.span())"
   ]
  },
  {
   "cell_type": "code",
   "execution_count": 27,
   "metadata": {},
   "outputs": [
    {
     "name": "stdout",
     "output_type": "stream",
     "text": [
      "python\n",
      "2\n",
      "8\n",
      "(2, 8)\n"
     ]
    }
   ],
   "source": [
    "m = p.search(\"3 python\")\n",
    "\n",
    "print(m.group())\n",
    "print(m.start())\n",
    "print(m.end())\n",
    "print(m.span())"
   ]
  },
  {
   "cell_type": "markdown",
   "metadata": {},
   "source": [
    "### 축약된 형태로 사용하기"
   ]
  },
  {
   "cell_type": "code",
   "execution_count": 32,
   "metadata": {},
   "outputs": [],
   "source": [
    "# 여러번 사용해야 할 경우에는 이게 나음\n",
    "p = re.compile('[a-z]+')\n",
    "m = p.match(\"python\")"
   ]
  },
  {
   "cell_type": "code",
   "execution_count": 31,
   "metadata": {},
   "outputs": [
    {
     "data": {
      "text/plain": [
       "0"
      ]
     },
     "execution_count": 31,
     "metadata": {},
     "output_type": "execute_result"
    }
   ],
   "source": [
    "# 한 줄로\n",
    "m = re.match('[a-z]+', \"python\")\n",
    "m.start()"
   ]
  },
  {
   "cell_type": "markdown",
   "metadata": {},
   "source": [
    "---\n",
    "## 컴파일 옵션\n",
    "\n",
    "1. DOTALL(S) : \".\" 이 줄바꿈 문자를 포함하여 모든 문자와 매치할 수 있도록 한다\n",
    "\n",
    "2. IGNORECASE(I) : 대소문자 관계없이 매치\n",
    "\n",
    "3. MULTILINE(M) : 여러줄과 매치할 수 있도록 함\n",
    "\n",
    "4. VERBOSE(X) : verbose 모드를 사용할 수 있도록 함\n",
    "\n",
    "-괄호 안은 약어"
   ]
  },
  {
   "cell_type": "markdown",
   "metadata": {},
   "source": [
    "## 1. DOTALL (S)\n",
    "\n",
    "-여러줄로 이루어진 문자열에서 \\n에 관계없이 검색할 때 많이 사용함"
   ]
  },
  {
   "cell_type": "code",
   "execution_count": 33,
   "metadata": {},
   "outputs": [
    {
     "name": "stdout",
     "output_type": "stream",
     "text": [
      "None\n"
     ]
    }
   ],
   "source": [
    "import re\n",
    "p = re.compile('a.b')\n",
    "m = p.match('a\\nb')\n",
    "print(m)"
   ]
  },
  {
   "cell_type": "code",
   "execution_count": 34,
   "metadata": {},
   "outputs": [
    {
     "name": "stdout",
     "output_type": "stream",
     "text": [
      "<re.Match object; span=(0, 3), match='a\\nb'>\n"
     ]
    }
   ],
   "source": [
    "p = re.compile('a.b', re.DOTALL)\n",
    "m = p.match('a\\nb')\n",
    "print(m)"
   ]
  },
  {
   "cell_type": "markdown",
   "metadata": {},
   "source": [
    "## 2. IGNORECASE (I)\n",
    "\n",
    "-대소문자 구별 없이 매치를 수행함"
   ]
  },
  {
   "cell_type": "code",
   "execution_count": 35,
   "metadata": {},
   "outputs": [
    {
     "data": {
      "text/plain": [
       "<re.Match object; span=(0, 1), match='P'>"
      ]
     },
     "execution_count": 35,
     "metadata": {},
     "output_type": "execute_result"
    }
   ],
   "source": [
    "p = re.compile('[a-z]', re.I)\n",
    "p.match('Python')"
   ]
  },
  {
   "cell_type": "markdown",
   "metadata": {},
   "source": [
    "## 3. MULTILINE (M)\n",
    "\n",
    "-^ : 문자열의 처음\n",
    "\n",
    "-$ : 문자열의 마지막\n",
    "\n",
    "예) ^python인 경우 문자열의 처음은 항상 python으로 시작해야하고, python$라면 항상 python으로 끝나야만 매치됨"
   ]
  },
  {
   "cell_type": "code",
   "execution_count": 36,
   "metadata": {},
   "outputs": [],
   "source": [
    "import re\n",
    "\n",
    "p = re.compile(\"^python\\s\\w+\") # python이라는 문자열로 시작하고 그 뒤에 whitespace 그 뒤에 단어가 와야 함\n",
    "\n",
    "data = \"\"\"python one\n",
    "life is too short\n",
    "python two\n",
    "you need python\n",
    "python three\"\"\""
   ]
  },
  {
   "cell_type": "code",
   "execution_count": 37,
   "metadata": {},
   "outputs": [
    {
     "name": "stdout",
     "output_type": "stream",
     "text": [
      "['python one']\n"
     ]
    }
   ],
   "source": [
    "print(p.findall(data))"
   ]
  },
  {
   "cell_type": "code",
   "execution_count": 39,
   "metadata": {},
   "outputs": [
    {
     "name": "stdout",
     "output_type": "stream",
     "text": [
      "['python one', 'python two', 'python three']\n"
     ]
    }
   ],
   "source": [
    "p = re.compile(\"^python\\s\\w+\", re.M) # multiline 써서 각 줄별로 보게끔 해줌\n",
    "print(p.findall(data))"
   ]
  },
  {
   "cell_type": "markdown",
   "metadata": {},
   "source": [
    "## 4. VERBOSE (X)\n",
    "\n",
    "-정규식을 주석 또는 줄 단위로 구분"
   ]
  },
  {
   "cell_type": "code",
   "execution_count": 40,
   "metadata": {},
   "outputs": [],
   "source": [
    "charref = re.compile(r'&[#](0[0-7]+|[0+9]+|x[0-9a-fA-F]+);')"
   ]
  },
  {
   "cell_type": "code",
   "execution_count": 41,
   "metadata": {},
   "outputs": [],
   "source": [
    "charref = re.compile(r\"\"\"\n",
    "&[#]                # STart of a numeric entity reference\n",
    "(\n",
    "    0[0-7]+         # octal form\n",
    "  | [0-9]+          # decimal form\n",
    "  | x[0-9a-fA-F]+   # Hexadecimal form\n",
    ")\n",
    ";                   # Trailing semicolon\n",
    "\"\"\", re.VERBOSE)"
   ]
  },
  {
   "cell_type": "markdown",
   "metadata": {},
   "source": [
    "---\n",
    "\n",
    "# 백슬래시 문제\n",
    "\n",
    "-\"\\section\"이라는 문자열을 찾기 위한 정규식을 만들 때, 이건 \\s로 인식되어서 whitespace라고 여길 것\n",
    "\n",
    "-그래서 \"\\\\\\\\section\"으로 변경해줘야 함"
   ]
  },
  {
   "cell_type": "code",
   "execution_count": 42,
   "metadata": {},
   "outputs": [],
   "source": [
    "p = re.compile('\\\\\\\\section')"
   ]
  },
  {
   "cell_type": "markdown",
   "metadata": {},
   "source": [
    "### Raw String 규칙!\n",
    "\n",
    "-컴파일해야 하는 정규식이 Raw String임을 알려줘야 함"
   ]
  },
  {
   "cell_type": "code",
   "execution_count": 43,
   "metadata": {},
   "outputs": [],
   "source": [
    "p = re.compile(r'\\\\section')"
   ]
  }
 ],
 "metadata": {
  "kernelspec": {
   "display_name": "Python 3",
   "language": "python",
   "name": "python3"
  },
  "language_info": {
   "codemirror_mode": {
    "name": "ipython",
    "version": 3
   },
   "file_extension": ".py",
   "mimetype": "text/x-python",
   "name": "python",
   "nbconvert_exporter": "python",
   "pygments_lexer": "ipython3",
   "version": "3.7.4"
  }
 },
 "nbformat": 4,
 "nbformat_minor": 2
}
